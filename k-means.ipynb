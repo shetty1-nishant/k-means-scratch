{
 "cells": [
  {
   "cell_type": "code",
   "execution_count": 5,
   "metadata": {},
   "outputs": [],
   "source": [
    "#author:nishant shetty\n",
    "#problem statement:k means\n",
    "import numpy as np\n",
    "import matplotlib.pyplot as plt\n",
    "from matplotlib import style\n",
    "style.use('ggplot')"
   ]
  },
  {
   "cell_type": "code",
   "execution_count": 7,
   "metadata": {},
   "outputs": [],
   "source": [
    "x=np.array([[1,2],[1.5,2.5],[1.2,2.8],[4,6],[3,9],[2,3],[4,9],[3,0],[4,8],[2,6],[3,5],[2,4],[3,3],[7,6],[5,7],[5,3]])"
   ]
  },
  {
   "cell_type": "code",
   "execution_count": 8,
   "metadata": {},
   "outputs": [
    {
     "name": "stdout",
     "output_type": "stream",
     "text": [
      "[1. 2.]\n",
      "[2. 1.]\n",
      "-50.0\n",
      "[1.5 2.5]\n",
      "[3.33571429 5.30714286]\n",
      "107.925794207752\n",
      "False\n",
      "[2. 1.]\n",
      "[1.95       2.21666667]\n",
      "52.32311548101021\n",
      "[3.33571429 5.30714286]\n",
      "[3.9 6.3]\n",
      "30.228501657073082\n",
      "False\n",
      "[1.95       2.21666667]\n",
      "[2.3375 2.5375]\n",
      "29.22121826787141\n",
      "[3.9 6.3]\n",
      "[4. 7.]\n",
      "12.500000000000004\n",
      "False\n",
      "[2.3375 2.5375]\n",
      "[2.3375 2.5375]\n",
      "0.0\n",
      "[4. 7.]\n",
      "[4. 7.]\n",
      "0.0\n",
      "True\n"
     ]
    }
   ],
   "source": [
    "class k_means():\n",
    "    def  __init__(self,k=2,tol=0.0001,max_iter=300):#tol:how much the centroid will move\n",
    "        #defining the self parameters\n",
    "        self.k=k\n",
    "        self.tol=tol\n",
    "        self.max_iter=max_iter\n",
    "##########################################################################################################\n",
    "    #writing the fit function\n",
    "    def fit(self,data):\n",
    "        #step 1:place the centroids at random positions\n",
    "        self.centroids={}\n",
    "        for i in range(self.k):\n",
    "            self.centroids[i]=data[i] #randomly choosing first k data points as centroid\n",
    "            \n",
    "        #step 2:for each data point find the nearest centroid\n",
    "        for i in range(self.max_iter):\n",
    "            self.classification={}\n",
    "            for i in range(self.k):\n",
    "                self.classification[i]=[] #creating k empty list for other data points to be classified \n",
    "            for j in data:\n",
    "                distances=[np.linalg.norm(j-self.centroids[centroid]) for centroid in range(self.k)]#calculating the distance of each data point with centroids\n",
    "                classi=distances.index(min(distances))#finding out the data point which has min. dist. with the centroid \n",
    "                self.classification[classi].append(j)\n",
    "                prev_centroids=dict(self.centroids)\n",
    "                \n",
    "            #step3: calculate the mean of all points in each k cluster and assign the new centroid=mean\n",
    "            for classification in self.classification:\n",
    "                self.centroids[classification]=np.average(self.classification[classification],axis=0)\n",
    "                \n",
    "            #step4:calculate the shift of new centroid wrt to previous centroid if the shift is less than 'tol' we have reached the correct location  \n",
    "            opt= True\n",
    "            for j in self.centroids:\n",
    "                \n",
    "                orig_centroids=self.centroids[j]\n",
    "                prev_centro=prev_centroids[j]\n",
    "                print(prev_centro)\n",
    "                print(orig_centroids)\n",
    "                print(np.sum(((orig_centroids-prev_centro)/orig_centroids)*100))\n",
    "                if np.sum(((orig_centroids-prev_centro)/orig_centroids)*100)>self.tol: #calculating the shift\n",
    "                    opt= False\n",
    "            \n",
    "            print(opt)\n",
    "            if opt:\n",
    "                break\n",
    "#######################################################################################################\n",
    "#taking the i/p and plotting the k means graph\n",
    "clf=k_means()\n",
    "clf.fit(x)\n"
   ]
  },
  {
   "cell_type": "code",
   "execution_count": 16,
   "metadata": {},
   "outputs": [
    {
     "data": {
      "image/png": "[encoded data removed]",
      "text/plain": [
       "<Figure size 432x288 with 1 Axes>"
      ]
     },
     "metadata": {},
     "output_type": "display_data"
    }
   ],
   "source": [
    "for centroid in clf.centroids:#plotting the centroids\n",
    "    plt.scatter(clf.centroids[centroid][0],clf.centroids[centroid][1],marker='o',color='k',s=150,linewidths=5)\n",
    "for clasi in clf.classification:#plotting all other data points\n",
    "    colors=10*['g','r','c','b','k']\n",
    "    color=colors[clasi]\n",
    "    for feature in clf.classification[clasi]:\n",
    "        plt.scatter(feature[0],feature[1],marker='x',color=color,s=150,linewidths=5)\n",
    "plt.show()"
   ]
  },
  {
   "cell_type": "code",
   "execution_count": null,
   "metadata": {},
   "outputs": [],
   "source": []
  },
  {
   "cell_type": "code",
   "execution_count": null,
   "metadata": {},
   "outputs": [],
   "source": []
  },
  {
   "cell_type": "code",
   "execution_count": null,
   "metadata": {},
   "outputs": [],
   "source": []
  }
 ],
 "metadata": {
  "kernelspec": {
   "display_name": "Python 3",
   "language": "python",
   "name": "python3"
  },
  "language_info": {
   "codemirror_mode": {
    "name": "ipython",
    "version": 3
   },
   "file_extension": ".py",
   "mimetype": "text/x-python",
   "name": "python",
   "nbconvert_exporter": "python",
   "pygments_lexer": "ipython3",
   "version": "3.7.2"
  }
 },
 "nbformat": 4,
 "nbformat_minor": 2
}
